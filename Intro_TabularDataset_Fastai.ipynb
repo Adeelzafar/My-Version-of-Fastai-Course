{
  "nbformat": 4,
  "nbformat_minor": 0,
  "metadata": {
    "colab": {
      "name": "Intro-TabularDataset-Fastai.ipynb",
      "provenance": [],
      "collapsed_sections": [],
      "authorship_tag": "ABX9TyO4oRLhrKYKICtwiEF7puwN",
      "include_colab_link": true
    },
    "kernelspec": {
      "name": "python3",
      "display_name": "Python 3"
    },
    "language_info": {
      "name": "python"
    },
    "accelerator": "GPU"
  },
  "cells": [
    {
      "cell_type": "markdown",
      "metadata": {
        "id": "view-in-github",
        "colab_type": "text"
      },
      "source": [
        "<a href=\"https://colab.research.google.com/github/Adeelzafar/My-Version-of-Fastai-Course/blob/main/Intro_TabularDataset_Fastai.ipynb\" target=\"_parent\"><img src=\"https://colab.research.google.com/assets/colab-badge.svg\" alt=\"Open In Colab\"/></a>"
      ]
    },
    {
      "cell_type": "code",
      "metadata": {
        "id": "cXTIr9_QVmJI"
      },
      "source": [
        "%matplotlib inline\n",
        "%reload_ext autoreload\n",
        "%autoreload 2\n"
      ],
      "execution_count": 1,
      "outputs": []
    },
    {
      "cell_type": "code",
      "metadata": {
        "colab": {
          "base_uri": "https://localhost:8080/"
        },
        "id": "8wdR35rRVohn",
        "outputId": "bfd6b427-4dff-42c6-d0fe-39f006f8929d"
      },
      "source": [
        "!pip install -Uqq fastbook\n",
        "import fastbook   \n",
        "fastbook.setup_book()"
      ],
      "execution_count": 2,
      "outputs": [
        {
          "output_type": "stream",
          "text": [
            "\u001b[?25l\r\u001b[K     |▌                               | 10 kB 35.2 MB/s eta 0:00:01\r\u001b[K     |█                               | 20 kB 28.3 MB/s eta 0:00:01\r\u001b[K     |█▍                              | 30 kB 18.5 MB/s eta 0:00:01\r\u001b[K     |█▉                              | 40 kB 15.9 MB/s eta 0:00:01\r\u001b[K     |██▎                             | 51 kB 9.0 MB/s eta 0:00:01\r\u001b[K     |██▊                             | 61 kB 9.4 MB/s eta 0:00:01\r\u001b[K     |███▏                            | 71 kB 9.1 MB/s eta 0:00:01\r\u001b[K     |███▋                            | 81 kB 10.1 MB/s eta 0:00:01\r\u001b[K     |████                            | 92 kB 7.9 MB/s eta 0:00:01\r\u001b[K     |████▌                           | 102 kB 8.6 MB/s eta 0:00:01\r\u001b[K     |█████                           | 112 kB 8.6 MB/s eta 0:00:01\r\u001b[K     |█████▌                          | 122 kB 8.6 MB/s eta 0:00:01\r\u001b[K     |██████                          | 133 kB 8.6 MB/s eta 0:00:01\r\u001b[K     |██████▍                         | 143 kB 8.6 MB/s eta 0:00:01\r\u001b[K     |██████▉                         | 153 kB 8.6 MB/s eta 0:00:01\r\u001b[K     |███████▎                        | 163 kB 8.6 MB/s eta 0:00:01\r\u001b[K     |███████▊                        | 174 kB 8.6 MB/s eta 0:00:01\r\u001b[K     |████████▏                       | 184 kB 8.6 MB/s eta 0:00:01\r\u001b[K     |████████▋                       | 194 kB 8.6 MB/s eta 0:00:01\r\u001b[K     |█████████                       | 204 kB 8.6 MB/s eta 0:00:01\r\u001b[K     |█████████▋                      | 215 kB 8.6 MB/s eta 0:00:01\r\u001b[K     |██████████                      | 225 kB 8.6 MB/s eta 0:00:01\r\u001b[K     |██████████▌                     | 235 kB 8.6 MB/s eta 0:00:01\r\u001b[K     |███████████                     | 245 kB 8.6 MB/s eta 0:00:01\r\u001b[K     |███████████▍                    | 256 kB 8.6 MB/s eta 0:00:01\r\u001b[K     |███████████▉                    | 266 kB 8.6 MB/s eta 0:00:01\r\u001b[K     |████████████▎                   | 276 kB 8.6 MB/s eta 0:00:01\r\u001b[K     |████████████▊                   | 286 kB 8.6 MB/s eta 0:00:01\r\u001b[K     |█████████████▏                  | 296 kB 8.6 MB/s eta 0:00:01\r\u001b[K     |█████████████▋                  | 307 kB 8.6 MB/s eta 0:00:01\r\u001b[K     |██████████████                  | 317 kB 8.6 MB/s eta 0:00:01\r\u001b[K     |██████████████▋                 | 327 kB 8.6 MB/s eta 0:00:01\r\u001b[K     |███████████████                 | 337 kB 8.6 MB/s eta 0:00:01\r\u001b[K     |███████████████▌                | 348 kB 8.6 MB/s eta 0:00:01\r\u001b[K     |████████████████                | 358 kB 8.6 MB/s eta 0:00:01\r\u001b[K     |████████████████▍               | 368 kB 8.6 MB/s eta 0:00:01\r\u001b[K     |████████████████▉               | 378 kB 8.6 MB/s eta 0:00:01\r\u001b[K     |█████████████████▎              | 389 kB 8.6 MB/s eta 0:00:01\r\u001b[K     |█████████████████▊              | 399 kB 8.6 MB/s eta 0:00:01\r\u001b[K     |██████████████████▏             | 409 kB 8.6 MB/s eta 0:00:01\r\u001b[K     |██████████████████▋             | 419 kB 8.6 MB/s eta 0:00:01\r\u001b[K     |███████████████████▏            | 430 kB 8.6 MB/s eta 0:00:01\r\u001b[K     |███████████████████▋            | 440 kB 8.6 MB/s eta 0:00:01\r\u001b[K     |████████████████████            | 450 kB 8.6 MB/s eta 0:00:01\r\u001b[K     |████████████████████▌           | 460 kB 8.6 MB/s eta 0:00:01\r\u001b[K     |█████████████████████           | 471 kB 8.6 MB/s eta 0:00:01\r\u001b[K     |█████████████████████▍          | 481 kB 8.6 MB/s eta 0:00:01\r\u001b[K     |█████████████████████▉          | 491 kB 8.6 MB/s eta 0:00:01\r\u001b[K     |██████████████████████▎         | 501 kB 8.6 MB/s eta 0:00:01\r\u001b[K     |██████████████████████▊         | 512 kB 8.6 MB/s eta 0:00:01\r\u001b[K     |███████████████████████▏        | 522 kB 8.6 MB/s eta 0:00:01\r\u001b[K     |███████████████████████▋        | 532 kB 8.6 MB/s eta 0:00:01\r\u001b[K     |████████████████████████▏       | 542 kB 8.6 MB/s eta 0:00:01\r\u001b[K     |████████████████████████▋       | 552 kB 8.6 MB/s eta 0:00:01\r\u001b[K     |█████████████████████████       | 563 kB 8.6 MB/s eta 0:00:01\r\u001b[K     |█████████████████████████▌      | 573 kB 8.6 MB/s eta 0:00:01\r\u001b[K     |██████████████████████████      | 583 kB 8.6 MB/s eta 0:00:01\r\u001b[K     |██████████████████████████▍     | 593 kB 8.6 MB/s eta 0:00:01\r\u001b[K     |██████████████████████████▉     | 604 kB 8.6 MB/s eta 0:00:01\r\u001b[K     |███████████████████████████▎    | 614 kB 8.6 MB/s eta 0:00:01\r\u001b[K     |███████████████████████████▊    | 624 kB 8.6 MB/s eta 0:00:01\r\u001b[K     |████████████████████████████▏   | 634 kB 8.6 MB/s eta 0:00:01\r\u001b[K     |████████████████████████████▊   | 645 kB 8.6 MB/s eta 0:00:01\r\u001b[K     |█████████████████████████████▏  | 655 kB 8.6 MB/s eta 0:00:01\r\u001b[K     |█████████████████████████████▋  | 665 kB 8.6 MB/s eta 0:00:01\r\u001b[K     |██████████████████████████████  | 675 kB 8.6 MB/s eta 0:00:01\r\u001b[K     |██████████████████████████████▌ | 686 kB 8.6 MB/s eta 0:00:01\r\u001b[K     |███████████████████████████████ | 696 kB 8.6 MB/s eta 0:00:01\r\u001b[K     |███████████████████████████████▍| 706 kB 8.6 MB/s eta 0:00:01\r\u001b[K     |███████████████████████████████▉| 716 kB 8.6 MB/s eta 0:00:01\r\u001b[K     |████████████████████████████████| 720 kB 8.6 MB/s \n",
            "\u001b[K     |████████████████████████████████| 186 kB 75.5 MB/s \n",
            "\u001b[K     |████████████████████████████████| 46 kB 5.8 MB/s \n",
            "\u001b[K     |████████████████████████████████| 1.2 MB 49.7 MB/s \n",
            "\u001b[K     |████████████████████████████████| 56 kB 5.3 MB/s \n",
            "\u001b[K     |████████████████████████████████| 51 kB 413 kB/s \n",
            "\u001b[?25hMounted at /content/gdrive\n"
          ],
          "name": "stdout"
        }
      ]
    },
    {
      "cell_type": "code",
      "metadata": {
        "id": "hNd2duSLV7p3"
      },
      "source": [
        "from fastbook import *"
      ],
      "execution_count": 3,
      "outputs": []
    },
    {
      "cell_type": "code",
      "metadata": {
        "id": "mv2hGoG4XLtl"
      },
      "source": [
        "from nbdev.showdoc import *\n",
        "\n",
        "set_seed(2)"
      ],
      "execution_count": 4,
      "outputs": []
    },
    {
      "cell_type": "code",
      "metadata": {
        "id": "IqplRmK9sJdo"
      },
      "source": [
        "from fastai.data.all import *"
      ],
      "execution_count": 58,
      "outputs": []
    },
    {
      "cell_type": "code",
      "metadata": {
        "id": "x1Akw9DttOM6"
      },
      "source": [
        "from fastai.tabular.all import *"
      ],
      "execution_count": 61,
      "outputs": []
    },
    {
      "cell_type": "code",
      "metadata": {
        "id": "bgJrQ5ZArb9P"
      },
      "source": [
        "path = untar_data(URLs.ADULT_SAMPLE)\n",
        "dls = TabularDataLoaders.from_csv(path/'adult.csv', path = path, y_names=\"salary\", \n",
        "                                  cat_names=['workclass','education','marital-status',\n",
        "                                             'occupation','relationship','race'],\n",
        "                                  cont_names=['age','fnlwgt','education-num'],\n",
        "                                  procs=[Categorify,FillMissing, Normalize])\n",
        "\n",
        "learn = tabular_learner(dls, metrics=accuracy)\n"
      ],
      "execution_count": 65,
      "outputs": []
    },
    {
      "cell_type": "code",
      "metadata": {
        "colab": {
          "base_uri": "https://localhost:8080/",
          "height": 143
        },
        "id": "eV8xBW8Wrb_U",
        "outputId": "b9a7fe36-7fda-4fe5-ebed-c83a6bc51507"
      },
      "source": [
        "learn.fit_one_cycle(3)"
      ],
      "execution_count": 66,
      "outputs": [
        {
          "output_type": "display_data",
          "data": {
            "text/html": [
              "<table border=\"1\" class=\"dataframe\">\n",
              "  <thead>\n",
              "    <tr style=\"text-align: left;\">\n",
              "      <th>epoch</th>\n",
              "      <th>train_loss</th>\n",
              "      <th>valid_loss</th>\n",
              "      <th>accuracy</th>\n",
              "      <th>time</th>\n",
              "    </tr>\n",
              "  </thead>\n",
              "  <tbody>\n",
              "    <tr>\n",
              "      <td>0</td>\n",
              "      <td>0.382311</td>\n",
              "      <td>0.367027</td>\n",
              "      <td>0.828624</td>\n",
              "      <td>00:04</td>\n",
              "    </tr>\n",
              "    <tr>\n",
              "      <td>1</td>\n",
              "      <td>0.355214</td>\n",
              "      <td>0.363249</td>\n",
              "      <td>0.833231</td>\n",
              "      <td>00:03</td>\n",
              "    </tr>\n",
              "    <tr>\n",
              "      <td>2</td>\n",
              "      <td>0.337614</td>\n",
              "      <td>0.358753</td>\n",
              "      <td>0.835074</td>\n",
              "      <td>00:04</td>\n",
              "    </tr>\n",
              "  </tbody>\n",
              "</table>"
            ],
            "text/plain": [
              "<IPython.core.display.HTML object>"
            ]
          },
          "metadata": {}
        }
      ]
    }
  ]
}