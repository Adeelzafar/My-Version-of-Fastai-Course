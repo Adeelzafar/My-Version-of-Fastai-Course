{
  "nbformat": 4,
  "nbformat_minor": 0,
  "metadata": {
    "colab": {
      "name": "CustomDataset-Rock-Paper-Scissors.ipynb",
      "provenance": [],
      "collapsed_sections": [],
      "authorship_tag": "ABX9TyMQ6lMvL94Bc0VQtTlsjxbb",
      "include_colab_link": true
    },
    "kernelspec": {
      "name": "python3",
      "display_name": "Python 3"
    },
    "language_info": {
      "name": "python"
    },
    "accelerator": "GPU"
  },
  "cells": [
    {
      "cell_type": "markdown",
      "metadata": {
        "id": "view-in-github",
        "colab_type": "text"
      },
      "source": [
        "<a href=\"https://colab.research.google.com/github/Adeelzafar/My-Version-of-Fastai-Course/blob/main/CustomDataset_Rock_Paper_Scissors.ipynb\" target=\"_parent\"><img src=\"https://colab.research.google.com/assets/colab-badge.svg\" alt=\"Open In Colab\"/></a>"
      ]
    },
    {
      "cell_type": "code",
      "metadata": {
        "id": "cXTIr9_QVmJI"
      },
      "source": [
        "%matplotlib inline\n",
        "%reload_ext autoreload\n",
        "%autoreload 2   \n"
      ],
      "execution_count": 1,
      "outputs": []
    },
    {
      "cell_type": "code",
      "metadata": {
        "id": "8wdR35rRVohn"
      },
      "source": [
        "!pip install -Uqq fastbook\n",
        "import fastbook   \n",
        "fastbook.setup_book()"
      ],
      "execution_count": 2,
      "outputs": []
    },
    {
      "cell_type": "code",
      "metadata": {
        "id": "hNd2duSLV7p3"
      },
      "source": [
        "from fastbook import *"
      ],
      "execution_count": 3,
      "outputs": []
    },
    {
      "cell_type": "code",
      "metadata": {
        "id": "mv2hGoG4XLtl"
      },
      "source": [
        "from nbdev.showdoc import *\n",
        "\n",
        "set_seed(2)"
      ],
      "execution_count": 4,
      "outputs": []
    },
    {
      "cell_type": "code",
      "metadata": {
        "id": "cKVI-SmV5QmS"
      },
      "source": [
        "from fastai.vision import *"
      ],
      "execution_count": 5,
      "outputs": []
    },
    {
      "cell_type": "code",
      "metadata": {
        "id": "h9XNqsp4Ko6m"
      },
      "source": [
        "path = \"/content/gdrive/MyDrive/Rock-Paper-Scissors/\"\n",
        "train_path = \"/content/gdrive/MyDrive/Rock-Paper-Scissors/train/paper\"\n",
        "\n",
        "fns= get_image_files(train_path)\n"
      ],
      "execution_count": 10,
      "outputs": []
    },
    {
      "cell_type": "code",
      "metadata": {
        "colab": {
          "base_uri": "https://localhost:8080/"
        },
        "id": "Q9d-VPCymUOD",
        "outputId": "ffd08af0-8a99-43df-83ee-915fca0e0757"
      },
      "source": [
        "fns"
      ],
      "execution_count": 11,
      "outputs": [
        {
          "output_type": "execute_result",
          "data": {
            "text/plain": [
              "(#840) [Path('/content/gdrive/MyDrive/Rock-Paper-Scissors/train/paper/paper01-047.png'),Path('/content/gdrive/MyDrive/Rock-Paper-Scissors/train/paper/paper01-043.png'),Path('/content/gdrive/MyDrive/Rock-Paper-Scissors/train/paper/paper01-038.png'),Path('/content/gdrive/MyDrive/Rock-Paper-Scissors/train/paper/paper01-042.png'),Path('/content/gdrive/MyDrive/Rock-Paper-Scissors/train/paper/paper01-041.png'),Path('/content/gdrive/MyDrive/Rock-Paper-Scissors/train/paper/paper01-040.png'),Path('/content/gdrive/MyDrive/Rock-Paper-Scissors/train/paper/paper01-037.png'),Path('/content/gdrive/MyDrive/Rock-Paper-Scissors/train/paper/paper01-036.png'),Path('/content/gdrive/MyDrive/Rock-Paper-Scissors/train/paper/paper01-034.png'),Path('/content/gdrive/MyDrive/Rock-Paper-Scissors/train/paper/paper01-035.png')...]"
            ]
          },
          "metadata": {},
          "execution_count": 11
        }
      ]
    },
    {
      "cell_type": "code",
      "metadata": {
        "id": "1CrvBUfmY4Hx"
      },
      "source": [
        "test_folder='/content/gdrive/My Drive/Rock-Paper-Scissors/test'"
      ],
      "execution_count": 12,
      "outputs": []
    },
    {
      "cell_type": "code",
      "metadata": {
        "colab": {
          "base_uri": "https://localhost:8080/"
        },
        "id": "fV4a-U_7YW5O",
        "outputId": "39dfe659-aa1c-4d5f-ed5c-af282757b3c7"
      },
      "source": [
        "classes = []\n",
        "for dirname,_,_ in os.walk(test_folder):\n",
        "    name = dirname.split('/')[-1].strip() \n",
        "    if (name != 'test'):\n",
        "        classes.append(name)\n",
        "\n",
        "print(classes[:3])\n",
        "print(\"Number of classes : \", len(classes))"
      ],
      "execution_count": 13,
      "outputs": [
        {
          "output_type": "stream",
          "text": [
            "['scissors', 'rock', 'paper']\n",
            "Number of classes :  3\n"
          ],
          "name": "stdout"
        }
      ]
    },
    {
      "cell_type": "code",
      "metadata": {
        "colab": {
          "base_uri": "https://localhost:8080/"
        },
        "id": "ozcXu7nYZClm",
        "outputId": "6d8d71b4-4286-4ed2-9466-d350255c8d95"
      },
      "source": [
        "img_path =  get_image_files(test_folder)\n",
        "img_path[:3]"
      ],
      "execution_count": 14,
      "outputs": [
        {
          "output_type": "execute_result",
          "data": {
            "text/plain": [
              "(#3) [Path('/content/gdrive/My Drive/Rock-Paper-Scissors/test/scissors/testscissors01-15.png'),Path('/content/gdrive/My Drive/Rock-Paper-Scissors/test/scissors/testscissors01-08.png'),Path('/content/gdrive/My Drive/Rock-Paper-Scissors/test/scissors/testscissors01-07.png')]"
            ]
          },
          "metadata": {},
          "execution_count": 14
        }
      ]
    },
    {
      "cell_type": "code",
      "metadata": {
        "id": "QtYsvHawa3FE"
      },
      "source": [
        "db = DataBlock (\n",
        "    blocks = (ImageBlock, CategoryBlock),\n",
        "    get_items = get_image_files,\n",
        "    splitter = RandomSplitter(valid_pct=0.2, seed=42),\n",
        "    get_y = parent_label,\n",
        "    item_tfms = Resize(256)\n",
        ")"
      ],
      "execution_count": 15,
      "outputs": []
    },
    {
      "cell_type": "code",
      "metadata": {
        "id": "Zz8i6HL1bfXc"
      },
      "source": [
        "dls = db.dataloaders(test_folder)"
      ],
      "execution_count": 16,
      "outputs": []
    },
    {
      "cell_type": "code",
      "metadata": {
        "colab": {
          "base_uri": "https://localhost:8080/",
          "height": 200
        },
        "id": "3_NA7dKVbli8",
        "outputId": "99a5f056-51e3-452c-c9ef-44b4e84275c3"
      },
      "source": [
        "dls.valid.show_batch(max_n=2, nrows=1)"
      ],
      "execution_count": 17,
      "outputs": [
        {
          "output_type": "display_data",
          "data": {
            "image/png": "[encoded data removed]",
            "text/plain": [
              "<Figure size 432x216 with 2 Axes>"
            ]
          },
          "metadata": {
            "needs_background": "light"
          }
        }
      ]
    },
    {
      "cell_type": "code",
      "metadata": {
        "colab": {
          "base_uri": "https://localhost:8080/",
          "height": 238
        },
        "id": "7t747oq8bqvx",
        "outputId": "a8e84bbb-dede-4529-e821-0a063d7f604e"
      },
      "source": [
        "learn = cnn_learner(dls, resnet50, metrics=accuracy)\n",
        "learn.fine_tune(4)"
      ],
      "execution_count": 19,
      "outputs": [
        {
          "output_type": "display_data",
          "data": {
            "text/html": [
              "<table border=\"1\" class=\"dataframe\">\n",
              "  <thead>\n",
              "    <tr style=\"text-align: left;\">\n",
              "      <th>epoch</th>\n",
              "      <th>train_loss</th>\n",
              "      <th>valid_loss</th>\n",
              "      <th>accuracy</th>\n",
              "      <th>time</th>\n",
              "    </tr>\n",
              "  </thead>\n",
              "  <tbody>\n",
              "    <tr>\n",
              "      <td>0</td>\n",
              "      <td>1.134683</td>\n",
              "      <td>0.576190</td>\n",
              "      <td>0.648649</td>\n",
              "      <td>00:04</td>\n",
              "    </tr>\n",
              "  </tbody>\n",
              "</table>"
            ],
            "text/plain": [
              "<IPython.core.display.HTML object>"
            ]
          },
          "metadata": {}
        },
        {
          "output_type": "display_data",
          "data": {
            "text/html": [
              "<table border=\"1\" class=\"dataframe\">\n",
              "  <thead>\n",
              "    <tr style=\"text-align: left;\">\n",
              "      <th>epoch</th>\n",
              "      <th>train_loss</th>\n",
              "      <th>valid_loss</th>\n",
              "      <th>accuracy</th>\n",
              "      <th>time</th>\n",
              "    </tr>\n",
              "  </thead>\n",
              "  <tbody>\n",
              "    <tr>\n",
              "      <td>0</td>\n",
              "      <td>0.030809</td>\n",
              "      <td>0.219195</td>\n",
              "      <td>0.891892</td>\n",
              "      <td>00:05</td>\n",
              "    </tr>\n",
              "    <tr>\n",
              "      <td>1</td>\n",
              "      <td>0.018864</td>\n",
              "      <td>0.009587</td>\n",
              "      <td>1.000000</td>\n",
              "      <td>00:05</td>\n",
              "    </tr>\n",
              "    <tr>\n",
              "      <td>2</td>\n",
              "      <td>0.014337</td>\n",
              "      <td>0.003446</td>\n",
              "      <td>1.000000</td>\n",
              "      <td>00:05</td>\n",
              "    </tr>\n",
              "    <tr>\n",
              "      <td>3</td>\n",
              "      <td>0.011187</td>\n",
              "      <td>0.003544</td>\n",
              "      <td>1.000000</td>\n",
              "      <td>00:05</td>\n",
              "    </tr>\n",
              "  </tbody>\n",
              "</table>"
            ],
            "text/plain": [
              "<IPython.core.display.HTML object>"
            ]
          },
          "metadata": {}
        }
      ]
    },
    {
      "cell_type": "code",
      "metadata": {
        "id": "F88cW4G0cM9V"
      },
      "source": [
        ""
      ],
      "execution_count": null,
      "outputs": []
    }
  ]
}